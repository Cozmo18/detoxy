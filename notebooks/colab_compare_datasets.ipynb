{
  "cells": [
    {
      "cell_type": "markdown",
      "source": [
        "# Comparing the original dataset vs balanced dataset"
      ],
      "metadata": {
        "id": "kKLhUDTVypR9"
      }
    },
    {
      "cell_type": "code",
      "source": [
        "!pip install toxy-bot==0.1.27"
      ],
      "metadata": {
        "colab": {
          "base_uri": "https://localhost:8080/"
        },
        "id": "OiGcGmLOkCyz",
        "outputId": "338f95a8-bf37-4469-8d29-ad4fabdf77c2"
      },
      "execution_count": 10,
      "outputs": [
        {
          "output_type": "stream",
          "name": "stdout",
          "text": [
            "Requirement already satisfied: toxy-bot==0.1.27 in /usr/local/lib/python3.11/dist-packages (0.1.27)\n",
            "Requirement already satisfied: comet-ml>=3.49.7 in /usr/local/lib/python3.11/dist-packages (from toxy-bot==0.1.27) (3.49.7)\n",
            "Requirement already satisfied: datasets>=3.5.0 in /usr/local/lib/python3.11/dist-packages (from toxy-bot==0.1.27) (3.5.0)\n",
            "Requirement already satisfied: dotenv>=0.9.9 in /usr/local/lib/python3.11/dist-packages (from toxy-bot==0.1.27) (0.9.9)\n",
            "Requirement already satisfied: jsonargparse>=4.38.0 in /usr/local/lib/python3.11/dist-packages (from toxy-bot==0.1.27) (4.38.0)\n",
            "Requirement already satisfied: lightning>=2.5.1 in /usr/local/lib/python3.11/dist-packages (from toxy-bot==0.1.27) (2.5.1)\n",
            "Requirement already satisfied: plotly>=6.0.1 in /usr/local/lib/python3.11/dist-packages (from toxy-bot==0.1.27) (6.0.1)\n",
            "Requirement already satisfied: pydantic>=2.11.2 in /usr/local/lib/python3.11/dist-packages (from toxy-bot==0.1.27) (2.11.2)\n",
            "Requirement already satisfied: torch>=2.6.0 in /usr/local/lib/python3.11/dist-packages (from toxy-bot==0.1.27) (2.6.0+cu124)\n",
            "Requirement already satisfied: torchvision>=0.21.0 in /usr/local/lib/python3.11/dist-packages (from toxy-bot==0.1.27) (0.21.0+cu124)\n",
            "Requirement already satisfied: transformers<4.51.0 in /usr/local/lib/python3.11/dist-packages (from toxy-bot==0.1.27) (4.50.3)\n",
            "Requirement already satisfied: dulwich!=0.20.33,>=0.20.6 in /usr/local/lib/python3.11/dist-packages (from comet-ml>=3.49.7->toxy-bot==0.1.27) (0.22.8)\n",
            "Requirement already satisfied: everett<3.2.0,>=1.0.1 in /usr/local/lib/python3.11/dist-packages (from everett[ini]<3.2.0,>=1.0.1->comet-ml>=3.49.7->toxy-bot==0.1.27) (3.1.0)\n",
            "Requirement already satisfied: jsonschema!=3.1.0,>=2.6.0 in /usr/local/lib/python3.11/dist-packages (from comet-ml>=3.49.7->toxy-bot==0.1.27) (4.23.0)\n",
            "Requirement already satisfied: psutil>=5.6.3 in /usr/local/lib/python3.11/dist-packages (from comet-ml>=3.49.7->toxy-bot==0.1.27) (5.9.5)\n",
            "Requirement already satisfied: python-box<7.0.0 in /usr/local/lib/python3.11/dist-packages (from comet-ml>=3.49.7->toxy-bot==0.1.27) (6.1.0)\n",
            "Requirement already satisfied: requests-toolbelt>=0.8.0 in /usr/local/lib/python3.11/dist-packages (from comet-ml>=3.49.7->toxy-bot==0.1.27) (1.0.0)\n",
            "Requirement already satisfied: requests>=2.18.4 in /usr/local/lib/python3.11/dist-packages (from comet-ml>=3.49.7->toxy-bot==0.1.27) (2.32.3)\n",
            "Requirement already satisfied: rich>=13.3.2 in /usr/local/lib/python3.11/dist-packages (from comet-ml>=3.49.7->toxy-bot==0.1.27) (13.9.4)\n",
            "Requirement already satisfied: semantic-version>=2.8.0 in /usr/local/lib/python3.11/dist-packages (from comet-ml>=3.49.7->toxy-bot==0.1.27) (2.10.0)\n",
            "Requirement already satisfied: sentry-sdk>=1.1.0 in /usr/local/lib/python3.11/dist-packages (from comet-ml>=3.49.7->toxy-bot==0.1.27) (2.25.1)\n",
            "Requirement already satisfied: simplejson in /usr/local/lib/python3.11/dist-packages (from comet-ml>=3.49.7->toxy-bot==0.1.27) (3.20.1)\n",
            "Requirement already satisfied: urllib3>=1.21.1 in /usr/local/lib/python3.11/dist-packages (from comet-ml>=3.49.7->toxy-bot==0.1.27) (2.3.0)\n",
            "Requirement already satisfied: wrapt>=1.11.2 in /usr/local/lib/python3.11/dist-packages (from comet-ml>=3.49.7->toxy-bot==0.1.27) (1.17.2)\n",
            "Requirement already satisfied: wurlitzer>=1.0.2 in /usr/local/lib/python3.11/dist-packages (from comet-ml>=3.49.7->toxy-bot==0.1.27) (3.1.1)\n",
            "Requirement already satisfied: filelock in /usr/local/lib/python3.11/dist-packages (from datasets>=3.5.0->toxy-bot==0.1.27) (3.18.0)\n",
            "Requirement already satisfied: numpy>=1.17 in /usr/local/lib/python3.11/dist-packages (from datasets>=3.5.0->toxy-bot==0.1.27) (2.0.2)\n",
            "Requirement already satisfied: pyarrow>=15.0.0 in /usr/local/lib/python3.11/dist-packages (from datasets>=3.5.0->toxy-bot==0.1.27) (18.1.0)\n",
            "Requirement already satisfied: dill<0.3.9,>=0.3.0 in /usr/local/lib/python3.11/dist-packages (from datasets>=3.5.0->toxy-bot==0.1.27) (0.3.8)\n",
            "Requirement already satisfied: pandas in /usr/local/lib/python3.11/dist-packages (from datasets>=3.5.0->toxy-bot==0.1.27) (2.2.2)\n",
            "Requirement already satisfied: tqdm>=4.66.3 in /usr/local/lib/python3.11/dist-packages (from datasets>=3.5.0->toxy-bot==0.1.27) (4.67.1)\n",
            "Requirement already satisfied: xxhash in /usr/local/lib/python3.11/dist-packages (from datasets>=3.5.0->toxy-bot==0.1.27) (3.5.0)\n",
            "Requirement already satisfied: multiprocess<0.70.17 in /usr/local/lib/python3.11/dist-packages (from datasets>=3.5.0->toxy-bot==0.1.27) (0.70.16)\n",
            "Requirement already satisfied: fsspec<=2024.12.0,>=2023.1.0 in /usr/local/lib/python3.11/dist-packages (from fsspec[http]<=2024.12.0,>=2023.1.0->datasets>=3.5.0->toxy-bot==0.1.27) (2024.12.0)\n",
            "Requirement already satisfied: aiohttp in /usr/local/lib/python3.11/dist-packages (from datasets>=3.5.0->toxy-bot==0.1.27) (3.11.15)\n",
            "Requirement already satisfied: huggingface-hub>=0.24.0 in /usr/local/lib/python3.11/dist-packages (from datasets>=3.5.0->toxy-bot==0.1.27) (0.30.1)\n",
            "Requirement already satisfied: packaging in /usr/local/lib/python3.11/dist-packages (from datasets>=3.5.0->toxy-bot==0.1.27) (24.2)\n",
            "Requirement already satisfied: pyyaml>=5.1 in /usr/local/lib/python3.11/dist-packages (from datasets>=3.5.0->toxy-bot==0.1.27) (6.0.2)\n",
            "Requirement already satisfied: python-dotenv in /usr/local/lib/python3.11/dist-packages (from dotenv>=0.9.9->toxy-bot==0.1.27) (1.1.0)\n",
            "Requirement already satisfied: lightning-utilities<2.0,>=0.10.0 in /usr/local/lib/python3.11/dist-packages (from lightning>=2.5.1->toxy-bot==0.1.27) (0.14.3)\n",
            "Requirement already satisfied: torchmetrics<3.0,>=0.7.0 in /usr/local/lib/python3.11/dist-packages (from lightning>=2.5.1->toxy-bot==0.1.27) (1.7.0)\n",
            "Requirement already satisfied: typing-extensions<6.0,>=4.4.0 in /usr/local/lib/python3.11/dist-packages (from lightning>=2.5.1->toxy-bot==0.1.27) (4.13.0)\n",
            "Requirement already satisfied: pytorch-lightning in /usr/local/lib/python3.11/dist-packages (from lightning>=2.5.1->toxy-bot==0.1.27) (2.5.1)\n",
            "Requirement already satisfied: narwhals>=1.15.1 in /usr/local/lib/python3.11/dist-packages (from plotly>=6.0.1->toxy-bot==0.1.27) (1.33.0)\n",
            "Requirement already satisfied: annotated-types>=0.6.0 in /usr/local/lib/python3.11/dist-packages (from pydantic>=2.11.2->toxy-bot==0.1.27) (0.7.0)\n",
            "Requirement already satisfied: pydantic-core==2.33.1 in /usr/local/lib/python3.11/dist-packages (from pydantic>=2.11.2->toxy-bot==0.1.27) (2.33.1)\n",
            "Requirement already satisfied: typing-inspection>=0.4.0 in /usr/local/lib/python3.11/dist-packages (from pydantic>=2.11.2->toxy-bot==0.1.27) (0.4.0)\n",
            "Requirement already satisfied: networkx in /usr/local/lib/python3.11/dist-packages (from torch>=2.6.0->toxy-bot==0.1.27) (3.4.2)\n",
            "Requirement already satisfied: jinja2 in /usr/local/lib/python3.11/dist-packages (from torch>=2.6.0->toxy-bot==0.1.27) (3.1.6)\n",
            "Requirement already satisfied: nvidia-cuda-nvrtc-cu12==12.4.127 in /usr/local/lib/python3.11/dist-packages (from torch>=2.6.0->toxy-bot==0.1.27) (12.4.127)\n",
            "Requirement already satisfied: nvidia-cuda-runtime-cu12==12.4.127 in /usr/local/lib/python3.11/dist-packages (from torch>=2.6.0->toxy-bot==0.1.27) (12.4.127)\n",
            "Requirement already satisfied: nvidia-cuda-cupti-cu12==12.4.127 in /usr/local/lib/python3.11/dist-packages (from torch>=2.6.0->toxy-bot==0.1.27) (12.4.127)\n",
            "Requirement already satisfied: nvidia-cudnn-cu12==9.1.0.70 in /usr/local/lib/python3.11/dist-packages (from torch>=2.6.0->toxy-bot==0.1.27) (9.1.0.70)\n",
            "Requirement already satisfied: nvidia-cublas-cu12==12.4.5.8 in /usr/local/lib/python3.11/dist-packages (from torch>=2.6.0->toxy-bot==0.1.27) (12.4.5.8)\n",
            "Requirement already satisfied: nvidia-cufft-cu12==11.2.1.3 in /usr/local/lib/python3.11/dist-packages (from torch>=2.6.0->toxy-bot==0.1.27) (11.2.1.3)\n",
            "Requirement already satisfied: nvidia-curand-cu12==10.3.5.147 in /usr/local/lib/python3.11/dist-packages (from torch>=2.6.0->toxy-bot==0.1.27) (10.3.5.147)\n",
            "Requirement already satisfied: nvidia-cusolver-cu12==11.6.1.9 in /usr/local/lib/python3.11/dist-packages (from torch>=2.6.0->toxy-bot==0.1.27) (11.6.1.9)\n",
            "Requirement already satisfied: nvidia-cusparse-cu12==12.3.1.170 in /usr/local/lib/python3.11/dist-packages (from torch>=2.6.0->toxy-bot==0.1.27) (12.3.1.170)\n",
            "Requirement already satisfied: nvidia-cusparselt-cu12==0.6.2 in /usr/local/lib/python3.11/dist-packages (from torch>=2.6.0->toxy-bot==0.1.27) (0.6.2)\n",
            "Requirement already satisfied: nvidia-nccl-cu12==2.21.5 in /usr/local/lib/python3.11/dist-packages (from torch>=2.6.0->toxy-bot==0.1.27) (2.21.5)\n",
            "Requirement already satisfied: nvidia-nvtx-cu12==12.4.127 in /usr/local/lib/python3.11/dist-packages (from torch>=2.6.0->toxy-bot==0.1.27) (12.4.127)\n",
            "Requirement already satisfied: nvidia-nvjitlink-cu12==12.4.127 in /usr/local/lib/python3.11/dist-packages (from torch>=2.6.0->toxy-bot==0.1.27) (12.4.127)\n",
            "Requirement already satisfied: triton==3.2.0 in /usr/local/lib/python3.11/dist-packages (from torch>=2.6.0->toxy-bot==0.1.27) (3.2.0)\n",
            "Requirement already satisfied: sympy==1.13.1 in /usr/local/lib/python3.11/dist-packages (from torch>=2.6.0->toxy-bot==0.1.27) (1.13.1)\n",
            "Requirement already satisfied: mpmath<1.4,>=1.1.0 in /usr/local/lib/python3.11/dist-packages (from sympy==1.13.1->torch>=2.6.0->toxy-bot==0.1.27) (1.3.0)\n",
            "Requirement already satisfied: pillow!=8.3.*,>=5.3.0 in /usr/local/lib/python3.11/dist-packages (from torchvision>=0.21.0->toxy-bot==0.1.27) (11.1.0)\n",
            "Requirement already satisfied: regex!=2019.12.17 in /usr/local/lib/python3.11/dist-packages (from transformers<4.51.0->toxy-bot==0.1.27) (2024.11.6)\n",
            "Requirement already satisfied: tokenizers<0.22,>=0.21 in /usr/local/lib/python3.11/dist-packages (from transformers<4.51.0->toxy-bot==0.1.27) (0.21.1)\n",
            "Requirement already satisfied: safetensors>=0.4.3 in /usr/local/lib/python3.11/dist-packages (from transformers<4.51.0->toxy-bot==0.1.27) (0.5.3)\n",
            "Requirement already satisfied: configobj in /usr/local/lib/python3.11/dist-packages (from everett[ini]<3.2.0,>=1.0.1->comet-ml>=3.49.7->toxy-bot==0.1.27) (5.0.9)\n",
            "Requirement already satisfied: aiohappyeyeballs>=2.3.0 in /usr/local/lib/python3.11/dist-packages (from aiohttp->datasets>=3.5.0->toxy-bot==0.1.27) (2.6.1)\n",
            "Requirement already satisfied: aiosignal>=1.1.2 in /usr/local/lib/python3.11/dist-packages (from aiohttp->datasets>=3.5.0->toxy-bot==0.1.27) (1.3.2)\n",
            "Requirement already satisfied: attrs>=17.3.0 in /usr/local/lib/python3.11/dist-packages (from aiohttp->datasets>=3.5.0->toxy-bot==0.1.27) (25.3.0)\n",
            "Requirement already satisfied: frozenlist>=1.1.1 in /usr/local/lib/python3.11/dist-packages (from aiohttp->datasets>=3.5.0->toxy-bot==0.1.27) (1.5.0)\n",
            "Requirement already satisfied: multidict<7.0,>=4.5 in /usr/local/lib/python3.11/dist-packages (from aiohttp->datasets>=3.5.0->toxy-bot==0.1.27) (6.3.1)\n",
            "Requirement already satisfied: propcache>=0.2.0 in /usr/local/lib/python3.11/dist-packages (from aiohttp->datasets>=3.5.0->toxy-bot==0.1.27) (0.3.1)\n",
            "Requirement already satisfied: yarl<2.0,>=1.17.0 in /usr/local/lib/python3.11/dist-packages (from aiohttp->datasets>=3.5.0->toxy-bot==0.1.27) (1.18.3)\n",
            "Requirement already satisfied: jsonschema-specifications>=2023.03.6 in /usr/local/lib/python3.11/dist-packages (from jsonschema!=3.1.0,>=2.6.0->comet-ml>=3.49.7->toxy-bot==0.1.27) (2024.10.1)\n",
            "Requirement already satisfied: referencing>=0.28.4 in /usr/local/lib/python3.11/dist-packages (from jsonschema!=3.1.0,>=2.6.0->comet-ml>=3.49.7->toxy-bot==0.1.27) (0.36.2)\n",
            "Requirement already satisfied: rpds-py>=0.7.1 in /usr/local/lib/python3.11/dist-packages (from jsonschema!=3.1.0,>=2.6.0->comet-ml>=3.49.7->toxy-bot==0.1.27) (0.24.0)\n",
            "Requirement already satisfied: setuptools in /usr/local/lib/python3.11/dist-packages (from lightning-utilities<2.0,>=0.10.0->lightning>=2.5.1->toxy-bot==0.1.27) (75.2.0)\n",
            "Requirement already satisfied: charset-normalizer<4,>=2 in /usr/local/lib/python3.11/dist-packages (from requests>=2.18.4->comet-ml>=3.49.7->toxy-bot==0.1.27) (3.4.1)\n",
            "Requirement already satisfied: idna<4,>=2.5 in /usr/local/lib/python3.11/dist-packages (from requests>=2.18.4->comet-ml>=3.49.7->toxy-bot==0.1.27) (3.10)\n",
            "Requirement already satisfied: certifi>=2017.4.17 in /usr/local/lib/python3.11/dist-packages (from requests>=2.18.4->comet-ml>=3.49.7->toxy-bot==0.1.27) (2025.1.31)\n",
            "Requirement already satisfied: markdown-it-py>=2.2.0 in /usr/local/lib/python3.11/dist-packages (from rich>=13.3.2->comet-ml>=3.49.7->toxy-bot==0.1.27) (3.0.0)\n",
            "Requirement already satisfied: pygments<3.0.0,>=2.13.0 in /usr/local/lib/python3.11/dist-packages (from rich>=13.3.2->comet-ml>=3.49.7->toxy-bot==0.1.27) (2.18.0)\n",
            "Requirement already satisfied: MarkupSafe>=2.0 in /usr/local/lib/python3.11/dist-packages (from jinja2->torch>=2.6.0->toxy-bot==0.1.27) (3.0.2)\n",
            "Requirement already satisfied: python-dateutil>=2.8.2 in /usr/local/lib/python3.11/dist-packages (from pandas->datasets>=3.5.0->toxy-bot==0.1.27) (2.8.2)\n",
            "Requirement already satisfied: pytz>=2020.1 in /usr/local/lib/python3.11/dist-packages (from pandas->datasets>=3.5.0->toxy-bot==0.1.27) (2025.2)\n",
            "Requirement already satisfied: tzdata>=2022.7 in /usr/local/lib/python3.11/dist-packages (from pandas->datasets>=3.5.0->toxy-bot==0.1.27) (2025.2)\n",
            "Requirement already satisfied: mdurl~=0.1 in /usr/local/lib/python3.11/dist-packages (from markdown-it-py>=2.2.0->rich>=13.3.2->comet-ml>=3.49.7->toxy-bot==0.1.27) (0.1.2)\n",
            "Requirement already satisfied: six>=1.5 in /usr/local/lib/python3.11/dist-packages (from python-dateutil>=2.8.2->pandas->datasets>=3.5.0->toxy-bot==0.1.27) (1.17.0)\n"
          ]
        }
      ]
    },
    {
      "cell_type": "code",
      "execution_count": 11,
      "metadata": {
        "id": "kaYHM8iatv1d"
      },
      "outputs": [],
      "source": [
        "import comet_ml\n",
        "\n",
        "import torch\n",
        "from google.colab import userdata\n",
        "\n",
        "import lightning.pytorch as pl\n",
        "from lightning.pytorch.callbacks import EarlyStopping, ModelCheckpoint\n",
        "from pytorch_lightning.loggers import CometLogger\n",
        "\n",
        "import os\n",
        "\n",
        "from toxy_bot.ml.datamodule import AutoTokenizerDataModule\n",
        "from toxy_bot.ml.module import SequenceClassificationModule\n",
        "from toxy_bot.ml.utils import create_dirs, create_experiment_name\n",
        "from toxy_bot.ml.config import Config, DataModuleConfig, ModuleConfig, TrainerConfig"
      ]
    },
    {
      "cell_type": "markdown",
      "source": [
        "First, let's configure some basic settings"
      ],
      "metadata": {
        "id": "GddY3gaEySI7"
      }
    },
    {
      "cell_type": "code",
      "execution_count": 12,
      "metadata": {
        "id": "sTIKzwBDtv1d",
        "outputId": "84559f55-b45b-4dc4-cc4c-f97bf1967892",
        "colab": {
          "base_uri": "https://localhost:8080/"
        }
      },
      "outputs": [
        {
          "output_type": "stream",
          "name": "stdout",
          "text": [
            "Model: google/bert_uncased_L-2_H-128_A-2\n",
            "Learning rate: 3e-05\n",
            "\n",
            "Dataset: anitamaxvim/jigsaw-toxic-comments\n",
            "Train size: 0.85\n",
            "Batch size: 64\n",
            "Max length: 256\n"
          ]
        }
      ],
      "source": [
        "# Model and dataset\n",
        "model_name = \"google/bert_uncased_L-2_H-128_A-2\" # BertTiny (4M)\n",
        "lr = ModuleConfig.learning_rate\n",
        "\n",
        "dataset_name = DataModuleConfig.dataset_name\n",
        "train_size = DataModuleConfig.train_size\n",
        "batch_size = DataModuleConfig.batch_size\n",
        "max_length = DataModuleConfig.max_length\n",
        "\n",
        "print(f\"Model: {model_name}\")\n",
        "print(f\"Learning rate: {lr}\")\n",
        "print()\n",
        "print(f\"Dataset: {dataset_name}\")\n",
        "print(f\"Train size: {train_size}\")\n",
        "print(f\"Batch size: {batch_size}\")\n",
        "print(f\"Max length: {max_length}\")"
      ]
    },
    {
      "cell_type": "code",
      "source": [
        "# Paths\n",
        "this_nb = os.getcwd()\n",
        "\n",
        "cache_dir = os.path.join(this_nb, \"data\")\n",
        "log_dir = os.path.join(this_nb, \"logs\")\n",
        "ckpt_dir = os.path.join(this_nb, \"checkpoints\")\n",
        "perf_dir = os.path.join(log_dir, \"perf\")\n",
        "\n",
        "print(f\"Cache dir: {cache_dir}\")\n",
        "print(f\"Log dir: {log_dir}\")\n",
        "print(f\"Checkpoint dir: {ckpt_dir}\")\n",
        "print(f\"Perf dir: {perf_dir}\")\n",
        "\n",
        "torch.set_float32_matmul_precision(precision=\"medium\")\n",
        "\n",
        "# Create required directories\n",
        "create_dirs([cache_dir, log_dir, ckpt_dir, perf_dir])"
      ],
      "metadata": {
        "colab": {
          "base_uri": "https://localhost:8080/"
        },
        "id": "Qc6LV10avon0",
        "outputId": "74ab0616-204b-4280-c462-31c1487180bf"
      },
      "execution_count": 13,
      "outputs": [
        {
          "output_type": "stream",
          "name": "stdout",
          "text": [
            "Cache dir: /content/data\n",
            "Log dir: /content/logs\n",
            "Checkpoint dir: /content/checkpoints\n",
            "Perf dir: /content/logs/perf\n"
          ]
        }
      ]
    },
    {
      "cell_type": "code",
      "execution_count": 14,
      "metadata": {
        "id": "v9s252Eitv1e",
        "colab": {
          "base_uri": "https://localhost:8080/"
        },
        "outputId": "b5c30ad0-5d5a-4cc7-f9bd-8b6fc1d6ecf6"
      },
      "outputs": [
        {
          "output_type": "stream",
          "name": "stdout",
          "text": [
            "Check val every n epoch: 1\n",
            "Val check interval: 0.25\n",
            "Log every n steps: 200\n"
          ]
        }
      ],
      "source": [
        "# Validation and logging\n",
        "check_val_every_n_epoch = TrainerConfig.check_val_every_n_epoch\n",
        "val_check_interval = TrainerConfig.val_check_interval\n",
        "log_every_n_steps = TrainerConfig.log_every_n_steps\n",
        "\n",
        "print(f\"Check val every n epoch: {check_val_every_n_epoch}\")\n",
        "print(f\"Val check interval: {val_check_interval}\")\n",
        "print(f\"Log every n steps: {log_every_n_steps}\")"
      ]
    },
    {
      "cell_type": "markdown",
      "source": [
        "Now, we can define our LightningDataModule, which will be used by Trainer for its DataLoaders."
      ],
      "metadata": {
        "id": "N_wHFbiHyz0O"
      }
    },
    {
      "cell_type": "code",
      "source": [
        "for train_split in [\"train\", \"balanced_train\"]:\n",
        "\n",
        "    lit_datamodule = AutoTokenizerDataModule(\n",
        "        model_name=model_name,\n",
        "        dataset_name=dataset_name,\n",
        "        cache_dir=cache_dir,\n",
        "        batch_size=batch_size,\n",
        "        max_length=max_length,\n",
        "        train_split=train_split,\n",
        "        train_size=train_size,\n",
        "    )\n",
        "\n",
        "    lit_model = SequenceClassificationModule(\n",
        "        model_name=model_name,\n",
        "        learning_rate=lr,\n",
        "    )\n",
        "\n",
        "    callbacks = [\n",
        "        ModelCheckpoint(dirpath=ckpt_dir, filename=train_split),\n",
        "    ]\n",
        "\n",
        "    comet_logger = CometLogger(\n",
        "        api_key=userdata.get(\"COMET_API_KEY\"),\n",
        "        project_name=\"toxy-bot-compare-datasets\",\n",
        "        workspace=\"anitamaxvim\",\n",
        "        name=train_split\n",
        "    )\n",
        "\n",
        "    lit_trainer = pl.Trainer(\n",
        "        accelerator=\"auto\",\n",
        "        devices=\"auto\",\n",
        "        strategy=\"auto\",\n",
        "        precision=\"16-mixed\",\n",
        "        max_epochs=3,\n",
        "        logger=comet_logger,\n",
        "        callbacks=callbacks,\n",
        "        val_check_interval=val_check_interval,\n",
        "        log_every_n_steps=log_every_n_steps,\n",
        "        check_val_every_n_epoch=check_val_every_n_epoch,\n",
        "    )\n",
        "\n",
        "    lit_trainer.fit(model=lit_model, datamodule=lit_datamodule)\n",
        "    comet_logger.experiment.end()"
      ],
      "metadata": {
        "id": "ZpmrkAOjwEMQ",
        "colab": {
          "base_uri": "https://localhost:8080/",
          "height": 348,
          "referenced_widgets": [
            "b6821a560cf14732a0c99605f1706393",
            "6dda6778947345848e9fc28132c4b2d0",
            "49fdd2fcd8c94732b57616c71c64b3dc",
            "afa4047a5aa44cb1bf5bd880482614e0",
            "54e20b24f2de491092002904bd02b2aa",
            "49c8d2b617d64e8baf9ed16a56690bfb",
            "b804ae1e50784034a2127e851f99c2de",
            "e4b2a9c4ddb6437eb3738b9f5d1c52b4",
            "155e5372f42e4b1ea1c68b2253958a82",
            "e49c25e9dec74ad1b51b2900dd15b31e",
            "4ee62e105b414a8187464bf943664ac9"
          ]
        },
        "outputId": "5e55a8fe-fd12-4893-95ca-6215b425abd0"
      },
      "execution_count": null,
      "outputs": [
        {
          "output_type": "stream",
          "name": "stderr",
          "text": [
            "Some weights of BertForSequenceClassification were not initialized from the model checkpoint at google/bert_uncased_L-2_H-128_A-2 and are newly initialized: ['classifier.bias', 'classifier.weight']\n",
            "You should probably TRAIN this model on a down-stream task to be able to use it for predictions and inference.\n",
            "WARNING:pytorch_lightning.loggers.comet:The parameter `project_name` is deprecated, please use `project` instead.\n",
            "\u001b[1;38;5;214mCOMET WARNING:\u001b[0m As you are running in a Jupyter environment, you will need to call `experiment.end()` when finished to ensure all metrics and code are logged before exiting.\n",
            "WARNING:urllib3.connectionpool:Retrying (Retry(total=2, connect=None, read=None, redirect=None, status=None)) after connection broken by 'SSLEOFError(8, 'EOF occurred in violation of protocol (_ssl.c:2427)')': /api/4505505645330432/envelope/\n",
            "\u001b[1;38;5;39mCOMET INFO:\u001b[0m Experiment is live on comet.com https://www.comet.com/anitamaxvim/toxy-bot-compare-datasets/1052613cd9ef4a12a61823442522b8b8\n",
            "\n",
            "INFO:pytorch_lightning.utilities.rank_zero:Using 16bit Automatic Mixed Precision (AMP)\n",
            "\u001b[1;38;5;39mCOMET INFO:\u001b[0m Couldn't find a Git repository in '/content' nor in any parent directory. Set `COMET_GIT_DIRECTORY` if your Git Repository is elsewhere.\n",
            "INFO:pytorch_lightning.utilities.rank_zero:GPU available: True (cuda), used: True\n",
            "INFO:pytorch_lightning.utilities.rank_zero:TPU available: False, using: 0 TPU cores\n",
            "INFO:pytorch_lightning.utilities.rank_zero:HPU available: False, using: 0 HPUs\n",
            "INFO: Seed set to 42\n",
            "INFO:lightning.fabric.utilities.seed:Seed set to 42\n",
            "INFO:pytorch_lightning.utilities.rank_zero:[2025-04-07 16:19:12.175346] Dataset anitamaxvim/jigsaw-toxic-comments exists in cache. Loading from cache.\n"
          ]
        },
        {
          "output_type": "display_data",
          "data": {
            "text/plain": [
              "Map:   0%|          | 0/135635 [00:00<?, ? examples/s]"
            ],
            "application/vnd.jupyter.widget-view+json": {
              "version_major": 2,
              "version_minor": 0,
              "model_id": "b6821a560cf14732a0c99605f1706393"
            }
          },
          "metadata": {}
        }
      ]
    },
    {
      "cell_type": "code",
      "execution_count": null,
      "metadata": {
        "id": "w7B0Xi0Jtv1f"
      },
      "outputs": [],
      "source": [
        "# models = [\n",
        "    # \"google/bert_uncased_L-2_H-128_A-2\" # BertTiny (4M)\n",
        "    # \"google/bert_uncased_L-4_H-256_A-4\", # BertMini (?)\n",
        "    # \"google/bert_uncased_L-4_H-512_A-8\", # BertSmall (29M)\n",
        "    # \"google/bert_uncased_L-8_H-512_A-8\", # BertMedium (42M)\n",
        "    # \"google/bert_uncased_L-12_H-768_A-12\", # BertBase (108M)\n",
        "# ]\n"
      ]
    }
  ],
  "metadata": {
    "kernelspec": {
      "display_name": "Python 3",
      "name": "python3"
    },
    "language_info": {
      "codemirror_mode": {
        "name": "ipython",
        "version": 3
      },
      "file_extension": ".py",
      "mimetype": "text/x-python",
      "name": "python",
      "nbconvert_exporter": "python",
      "pygments_lexer": "ipython3",
      "version": "3.11.11"
    },
    "colab": {
      "provenance": [],
      "machine_shape": "hm",
      "gpuType": "T4"
    },
    "accelerator": "GPU",
    "widgets": {
      "application/vnd.jupyter.widget-state+json": {
        "b6821a560cf14732a0c99605f1706393": {
          "model_module": "@jupyter-widgets/controls",
          "model_name": "HBoxModel",
          "model_module_version": "1.5.0",
          "state": {
            "_dom_classes": [],
            "_model_module": "@jupyter-widgets/controls",
            "_model_module_version": "1.5.0",
            "_model_name": "HBoxModel",
            "_view_count": null,
            "_view_module": "@jupyter-widgets/controls",
            "_view_module_version": "1.5.0",
            "_view_name": "HBoxView",
            "box_style": "",
            "children": [
              "IPY_MODEL_6dda6778947345848e9fc28132c4b2d0",
              "IPY_MODEL_49fdd2fcd8c94732b57616c71c64b3dc",
              "IPY_MODEL_afa4047a5aa44cb1bf5bd880482614e0"
            ],
            "layout": "IPY_MODEL_54e20b24f2de491092002904bd02b2aa"
          }
        },
        "6dda6778947345848e9fc28132c4b2d0": {
          "model_module": "@jupyter-widgets/controls",
          "model_name": "HTMLModel",
          "model_module_version": "1.5.0",
          "state": {
            "_dom_classes": [],
            "_model_module": "@jupyter-widgets/controls",
            "_model_module_version": "1.5.0",
            "_model_name": "HTMLModel",
            "_view_count": null,
            "_view_module": "@jupyter-widgets/controls",
            "_view_module_version": "1.5.0",
            "_view_name": "HTMLView",
            "description": "",
            "description_tooltip": null,
            "layout": "IPY_MODEL_49c8d2b617d64e8baf9ed16a56690bfb",
            "placeholder": "​",
            "style": "IPY_MODEL_b804ae1e50784034a2127e851f99c2de",
            "value": "Map:  36%"
          }
        },
        "49fdd2fcd8c94732b57616c71c64b3dc": {
          "model_module": "@jupyter-widgets/controls",
          "model_name": "FloatProgressModel",
          "model_module_version": "1.5.0",
          "state": {
            "_dom_classes": [],
            "_model_module": "@jupyter-widgets/controls",
            "_model_module_version": "1.5.0",
            "_model_name": "FloatProgressModel",
            "_view_count": null,
            "_view_module": "@jupyter-widgets/controls",
            "_view_module_version": "1.5.0",
            "_view_name": "ProgressView",
            "bar_style": "",
            "description": "",
            "description_tooltip": null,
            "layout": "IPY_MODEL_e4b2a9c4ddb6437eb3738b9f5d1c52b4",
            "max": 135635,
            "min": 0,
            "orientation": "horizontal",
            "style": "IPY_MODEL_155e5372f42e4b1ea1c68b2253958a82",
            "value": 49344
          }
        },
        "afa4047a5aa44cb1bf5bd880482614e0": {
          "model_module": "@jupyter-widgets/controls",
          "model_name": "HTMLModel",
          "model_module_version": "1.5.0",
          "state": {
            "_dom_classes": [],
            "_model_module": "@jupyter-widgets/controls",
            "_model_module_version": "1.5.0",
            "_model_name": "HTMLModel",
            "_view_count": null,
            "_view_module": "@jupyter-widgets/controls",
            "_view_module_version": "1.5.0",
            "_view_name": "HTMLView",
            "description": "",
            "description_tooltip": null,
            "layout": "IPY_MODEL_e49c25e9dec74ad1b51b2900dd15b31e",
            "placeholder": "​",
            "style": "IPY_MODEL_4ee62e105b414a8187464bf943664ac9",
            "value": " 49344/135635 [00:28&lt;00:36, 2386.57 examples/s]"
          }
        },
        "54e20b24f2de491092002904bd02b2aa": {
          "model_module": "@jupyter-widgets/base",
          "model_name": "LayoutModel",
          "model_module_version": "1.2.0",
          "state": {
            "_model_module": "@jupyter-widgets/base",
            "_model_module_version": "1.2.0",
            "_model_name": "LayoutModel",
            "_view_count": null,
            "_view_module": "@jupyter-widgets/base",
            "_view_module_version": "1.2.0",
            "_view_name": "LayoutView",
            "align_content": null,
            "align_items": null,
            "align_self": null,
            "border": null,
            "bottom": null,
            "display": null,
            "flex": null,
            "flex_flow": null,
            "grid_area": null,
            "grid_auto_columns": null,
            "grid_auto_flow": null,
            "grid_auto_rows": null,
            "grid_column": null,
            "grid_gap": null,
            "grid_row": null,
            "grid_template_areas": null,
            "grid_template_columns": null,
            "grid_template_rows": null,
            "height": null,
            "justify_content": null,
            "justify_items": null,
            "left": null,
            "margin": null,
            "max_height": null,
            "max_width": null,
            "min_height": null,
            "min_width": null,
            "object_fit": null,
            "object_position": null,
            "order": null,
            "overflow": null,
            "overflow_x": null,
            "overflow_y": null,
            "padding": null,
            "right": null,
            "top": null,
            "visibility": null,
            "width": null
          }
        },
        "49c8d2b617d64e8baf9ed16a56690bfb": {
          "model_module": "@jupyter-widgets/base",
          "model_name": "LayoutModel",
          "model_module_version": "1.2.0",
          "state": {
            "_model_module": "@jupyter-widgets/base",
            "_model_module_version": "1.2.0",
            "_model_name": "LayoutModel",
            "_view_count": null,
            "_view_module": "@jupyter-widgets/base",
            "_view_module_version": "1.2.0",
            "_view_name": "LayoutView",
            "align_content": null,
            "align_items": null,
            "align_self": null,
            "border": null,
            "bottom": null,
            "display": null,
            "flex": null,
            "flex_flow": null,
            "grid_area": null,
            "grid_auto_columns": null,
            "grid_auto_flow": null,
            "grid_auto_rows": null,
            "grid_column": null,
            "grid_gap": null,
            "grid_row": null,
            "grid_template_areas": null,
            "grid_template_columns": null,
            "grid_template_rows": null,
            "height": null,
            "justify_content": null,
            "justify_items": null,
            "left": null,
            "margin": null,
            "max_height": null,
            "max_width": null,
            "min_height": null,
            "min_width": null,
            "object_fit": null,
            "object_position": null,
            "order": null,
            "overflow": null,
            "overflow_x": null,
            "overflow_y": null,
            "padding": null,
            "right": null,
            "top": null,
            "visibility": null,
            "width": null
          }
        },
        "b804ae1e50784034a2127e851f99c2de": {
          "model_module": "@jupyter-widgets/controls",
          "model_name": "DescriptionStyleModel",
          "model_module_version": "1.5.0",
          "state": {
            "_model_module": "@jupyter-widgets/controls",
            "_model_module_version": "1.5.0",
            "_model_name": "DescriptionStyleModel",
            "_view_count": null,
            "_view_module": "@jupyter-widgets/base",
            "_view_module_version": "1.2.0",
            "_view_name": "StyleView",
            "description_width": ""
          }
        },
        "e4b2a9c4ddb6437eb3738b9f5d1c52b4": {
          "model_module": "@jupyter-widgets/base",
          "model_name": "LayoutModel",
          "model_module_version": "1.2.0",
          "state": {
            "_model_module": "@jupyter-widgets/base",
            "_model_module_version": "1.2.0",
            "_model_name": "LayoutModel",
            "_view_count": null,
            "_view_module": "@jupyter-widgets/base",
            "_view_module_version": "1.2.0",
            "_view_name": "LayoutView",
            "align_content": null,
            "align_items": null,
            "align_self": null,
            "border": null,
            "bottom": null,
            "display": null,
            "flex": null,
            "flex_flow": null,
            "grid_area": null,
            "grid_auto_columns": null,
            "grid_auto_flow": null,
            "grid_auto_rows": null,
            "grid_column": null,
            "grid_gap": null,
            "grid_row": null,
            "grid_template_areas": null,
            "grid_template_columns": null,
            "grid_template_rows": null,
            "height": null,
            "justify_content": null,
            "justify_items": null,
            "left": null,
            "margin": null,
            "max_height": null,
            "max_width": null,
            "min_height": null,
            "min_width": null,
            "object_fit": null,
            "object_position": null,
            "order": null,
            "overflow": null,
            "overflow_x": null,
            "overflow_y": null,
            "padding": null,
            "right": null,
            "top": null,
            "visibility": null,
            "width": null
          }
        },
        "155e5372f42e4b1ea1c68b2253958a82": {
          "model_module": "@jupyter-widgets/controls",
          "model_name": "ProgressStyleModel",
          "model_module_version": "1.5.0",
          "state": {
            "_model_module": "@jupyter-widgets/controls",
            "_model_module_version": "1.5.0",
            "_model_name": "ProgressStyleModel",
            "_view_count": null,
            "_view_module": "@jupyter-widgets/base",
            "_view_module_version": "1.2.0",
            "_view_name": "StyleView",
            "bar_color": null,
            "description_width": ""
          }
        },
        "e49c25e9dec74ad1b51b2900dd15b31e": {
          "model_module": "@jupyter-widgets/base",
          "model_name": "LayoutModel",
          "model_module_version": "1.2.0",
          "state": {
            "_model_module": "@jupyter-widgets/base",
            "_model_module_version": "1.2.0",
            "_model_name": "LayoutModel",
            "_view_count": null,
            "_view_module": "@jupyter-widgets/base",
            "_view_module_version": "1.2.0",
            "_view_name": "LayoutView",
            "align_content": null,
            "align_items": null,
            "align_self": null,
            "border": null,
            "bottom": null,
            "display": null,
            "flex": null,
            "flex_flow": null,
            "grid_area": null,
            "grid_auto_columns": null,
            "grid_auto_flow": null,
            "grid_auto_rows": null,
            "grid_column": null,
            "grid_gap": null,
            "grid_row": null,
            "grid_template_areas": null,
            "grid_template_columns": null,
            "grid_template_rows": null,
            "height": null,
            "justify_content": null,
            "justify_items": null,
            "left": null,
            "margin": null,
            "max_height": null,
            "max_width": null,
            "min_height": null,
            "min_width": null,
            "object_fit": null,
            "object_position": null,
            "order": null,
            "overflow": null,
            "overflow_x": null,
            "overflow_y": null,
            "padding": null,
            "right": null,
            "top": null,
            "visibility": null,
            "width": null
          }
        },
        "4ee62e105b414a8187464bf943664ac9": {
          "model_module": "@jupyter-widgets/controls",
          "model_name": "DescriptionStyleModel",
          "model_module_version": "1.5.0",
          "state": {
            "_model_module": "@jupyter-widgets/controls",
            "_model_module_version": "1.5.0",
            "_model_name": "DescriptionStyleModel",
            "_view_count": null,
            "_view_module": "@jupyter-widgets/base",
            "_view_module_version": "1.2.0",
            "_view_name": "StyleView",
            "description_width": ""
          }
        }
      }
    }
  },
  "nbformat": 4,
  "nbformat_minor": 0
}